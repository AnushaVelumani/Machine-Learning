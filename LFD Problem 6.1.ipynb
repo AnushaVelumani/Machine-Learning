{
 "cells": [
  {
   "cell_type": "markdown",
   "metadata": {},
   "source": [
    "#### Problem 6.1 a) 1-NN and 3-NN"
   ]
  },
  {
   "cell_type": "code",
   "execution_count": 180,
   "metadata": {},
   "outputs": [
    {
     "data": {
      "image/png": "[encoded data removed]",
      "text/plain": [
       "<Figure size 432x288 with 1 Axes>"
      ]
     },
     "metadata": {},
     "output_type": "display_data"
    }
   ],
   "source": [
    "import random\n",
    "import numpy as np\n",
    "import pandas as pd\n",
    "import matplotlib.pyplot as plt\n",
    "%matplotlib inline\n",
    "from matplotlib.colors import ListedColormap\n",
    "from sklearn import neighbors, datasets\n",
    "plt.rcParams['axes.unicode_minus'] = False \n",
    "\n",
    "X = np.array([[1, 0], [0, 1], [0, -1], [-1, 0], [0, 2], [0, -2], [-2,0]])\n",
    "\n",
    "Y = np.array([-1,-1,-1,-1,1,1,1])\n",
    "\n",
    "# Create color maps\n",
    "cmap_light = ListedColormap(['Yellow', 'Green', 'Cyan'])\n",
    "cmap_bold = ListedColormap(['Red', 'Green', 'Blue'])\n",
    "        \n",
    "h = .02  # step size in the mesh\n",
    "nearest_neighbors = 1\n",
    "\n",
    "  \n",
    "clf = neighbors.KNeighborsClassifier(nearest_neighbors, weights = 'uniform')\n",
    "clf.fit(X, Y)\n",
    "    \n",
    "\n",
    "x_min, x_max = X[:, 0].min() - 1, X[:, 0].max() + 1\n",
    "y_min, y_max = X[:, 1].min() - 1, X[:, 1].max() + 1\n",
    "xx, yy = np.meshgrid(np.arange(x_min, x_max, h),np.arange(y_min, y_max, h))\n",
    "Z = clf.predict(np.c_[xx.ravel(), yy.ravel()])\n",
    "    \n",
    "Z = Z.reshape(xx.shape)\n",
    "plt.figure()\n",
    "plt.pcolormesh(xx, yy, Z, cmap=cmap_light)\n",
    "\n",
    "plt.scatter(X[:, 0], X[:, 1], c=Y, cmap=cmap_bold)\n",
    "plt.xlim(xx.min(), xx.max())\n",
    "plt.ylim(yy.min(), yy.max())\n",
    "        \n",
    "plt.show()\n"
   ]
  },
  {
   "cell_type": "code",
   "execution_count": 181,
   "metadata": {},
   "outputs": [
    {
     "data": {
      "image/png": "[encoded data removed]",
      "text/plain": [
       "<Figure size 432x288 with 1 Axes>"
      ]
     },
     "metadata": {},
     "output_type": "display_data"
    }
   ],
   "source": [
    "import random\n",
    "import numpy as np\n",
    "import pandas as pd\n",
    "import matplotlib.pyplot as plt\n",
    "%matplotlib inline\n",
    "from matplotlib.colors import ListedColormap\n",
    "from sklearn import neighbors, datasets\n",
    "plt.rcParams['axes.unicode_minus'] = False \n",
    "\n",
    "X = np.array([[1, 0], [0, 1], [0, -1], [-1, 0], [0, 2], [0, -2], [-2,0]])\n",
    "\n",
    "Y = np.array([-1,-1,-1,-1,1,1,1])\n",
    "\n",
    "# Create color maps\n",
    "cmap_light = ListedColormap(['Yellow', 'Green', 'Cyan'])\n",
    "cmap_bold = ListedColormap(['Red', 'Green', 'Blue'])\n",
    "        \n",
    "h = .02  # step size in the mesh\n",
    "nearest_neighbors = 3\n",
    "\n",
    "clf = neighbors.KNeighborsClassifier(nearest_neighbors, weights = 'uniform')\n",
    "clf.fit(X, Y)\n",
    "     \n",
    "\n",
    "x_min, x_max = X[:, 0].min() - 1, X[:, 0].max() + 1\n",
    "y_min, y_max = X[:, 1].min() - 1, X[:, 1].max() + 1\n",
    "xx, yy = np.meshgrid(np.arange(x_min, x_max, h),np.arange(y_min, y_max, h))\n",
    "Z = clf.predict(np.c_[xx.ravel(), yy.ravel()])\n",
    "\n",
    "Z = Z.reshape(xx.shape)\n",
    "plt.figure()\n",
    "plt.pcolormesh(xx, yy, Z, cmap=cmap_light)\n",
    "\n",
    "plt.scatter(X[:, 0], X[:, 1], c=Y, cmap=cmap_bold)\n",
    "plt.xlim(xx.min(), xx.max())\n",
    "plt.ylim(yy.min(), yy.max())\n",
    "   \n",
    "\n",
    "       \n",
    "plt.show()\n"
   ]
  },
  {
   "cell_type": "markdown",
   "metadata": {},
   "source": [
    "#### 6.1 b) 1-NN and 3-NN"
   ]
  },
  {
   "cell_type": "code",
   "execution_count": 182,
   "metadata": {},
   "outputs": [
    {
     "name": "stderr",
     "output_type": "stream",
     "text": [
      "C:\\Users\\VG\\Anaconda3\\lib\\site-packages\\ipykernel_launcher.py:26: RuntimeWarning: divide by zero encountered in long_scalars\n"
     ]
    },
    {
     "data": {
      "image/png": "[encoded data removed]",
      "text/plain": [
       "<Figure size 432x288 with 1 Axes>"
      ]
     },
     "metadata": {},
     "output_type": "display_data"
    }
   ],
   "source": [
    "import random\n",
    "import numpy as np\n",
    "import pandas as pd\n",
    "import matplotlib.pyplot as plt\n",
    "%matplotlib inline\n",
    "\n",
    "from matplotlib.colors import ListedColormap\n",
    "from sklearn import neighbors, datasets\n",
    "plt.rcParams['axes.unicode_minus'] = False \n",
    "\n",
    "X = np.array([[1, 0], [0, 1], [0, -1], [-1, 0], [0, 2], [0, -2], [-2,0]])\n",
    "Y_op = [-1,-1,-1,-1,1,1,1]\n",
    "\n",
    "grid = np.arange(-4,4,1)\n",
    "\n",
    "cmap_light = ListedColormap(['Yellow', 'Green', 'Cyan'])\n",
    "cmap_bold = ListedColormap(['Red', 'Green', 'Blue'])\n",
    "\n",
    "        \n",
    "h = .02  # step size in the mesh\n",
    "nearest_neighbors = 1\n",
    "X1=[]\n",
    "X2=[]\n",
    "for i in X:\n",
    "    Z1 = np.sqrt(i[0]**2 + i[1]**2)\n",
    "    Z2 = np.arctan(i[1]/i[0])\n",
    "    X1.append(Z1)\n",
    "    X2.append(Z2)\n",
    "\n",
    "df1 = pd.DataFrame({'X':X1,'Y':X2})\n",
    "\n",
    "clf = neighbors.KNeighborsClassifier(nearest_neighbors, weights = 'uniform')\n",
    "clf.fit(df1, Y)\n",
    "     \n",
    "\n",
    "x_min, x_max = X[:, 0].min() - 1, X[:, 0].max() + 1\n",
    "y_min, y_max = X[:, 1].min() - 1, X[:, 1].max() + 1\n",
    "xx, yy = np.meshgrid(np.arange(x_min, x_max, h),np.arange(y_min, y_max, h))\n",
    "    \n",
    "Z_1 = np.sqrt(np.square(xx) + np.square(yy))\n",
    "Z_2 = np.arctan(yy/xx)\n",
    "Z = clf.predict(np.c_[Z_1.ravel(), Z_2.ravel()])\n",
    "\n",
    "Z = Z.reshape(xx.shape)\n",
    "plt.figure()\n",
    "plt.pcolormesh(xx, yy, Z, cmap=cmap_light)\n",
    "\n",
    "plt.scatter(X[:, 0], X[:, 1], c=Y, cmap=cmap_bold)\n",
    "plt.xlim(xx.min(), xx.max())\n",
    "plt.ylim(yy.min(), yy.max())\n",
    "       \n",
    "plt.show()\n"
   ]
  },
  {
   "cell_type": "code",
   "execution_count": 183,
   "metadata": {},
   "outputs": [
    {
     "name": "stderr",
     "output_type": "stream",
     "text": [
      "C:\\Users\\VG\\Anaconda3\\lib\\site-packages\\ipykernel_launcher.py:27: RuntimeWarning: divide by zero encountered in long_scalars\n"
     ]
    },
    {
     "data": {
      "image/png": "[encoded data removed]",
      "text/plain": [
       "<Figure size 432x288 with 1 Axes>"
      ]
     },
     "metadata": {},
     "output_type": "display_data"
    }
   ],
   "source": [
    "import random\n",
    "import numpy as np\n",
    "import pandas as pd\n",
    "import matplotlib.pyplot as plt\n",
    "%matplotlib inline\n",
    "\n",
    "from matplotlib.colors import ListedColormap\n",
    "from sklearn import neighbors, datasets\n",
    "plt.rcParams['axes.unicode_minus'] = False \n",
    "\n",
    "X = np.array([[1, 0], [0, 1], [0, -1], [-1, 0], [0, 2], [0, -2], [-2,0]])\n",
    "Y_op = [-1,-1,-1,-1,1,1,1]\n",
    "\n",
    "grid = np.arange(-4,4,1)\n",
    "\n",
    "cmap_light = ListedColormap(['Yellow', 'Green', 'Cyan'])\n",
    "cmap_bold = ListedColormap(['Red', 'Green', 'Blue'])\n",
    "\n",
    "        \n",
    "h = .02  # step size in the mesh\n",
    "nearest_neighbors = 3\n",
    "\n",
    "X1=[]\n",
    "X2=[]\n",
    "for i in X:\n",
    "    Z1 = np.sqrt(i[0]**2 + i[1]**2)\n",
    "    Z2 = np.arctan(i[1]/i[0])\n",
    "    X1.append(Z1)\n",
    "    X2.append(Z2)\n",
    "\n",
    "df1 = pd.DataFrame({'X':X1,'Y':X2})\n",
    "\n",
    "clf = neighbors.KNeighborsClassifier(nearest_neighbors, weights = 'uniform')\n",
    "clf.fit(df1, Y)\n",
    "     \n",
    "\n",
    "x_min, x_max = X[:, 0].min() - 1, X[:, 0].max() + 1\n",
    "y_min, y_max = X[:, 1].min() - 1, X[:, 1].max() + 1\n",
    "xx, yy = np.meshgrid(np.arange(x_min, x_max, h),np.arange(y_min, y_max, h))\n",
    "    \n",
    "Z_1 = np.sqrt(np.square(xx) + np.square(yy))\n",
    "Z_2 = np.arctan(yy/xx)\n",
    "Z = clf.predict(np.c_[Z_1.ravel(), Z_2.ravel()])\n",
    "\n",
    "Z = Z.reshape(xx.shape)\n",
    "plt.figure()\n",
    "plt.pcolormesh(xx, yy, Z, cmap=cmap_light)\n",
    "\n",
    "plt.scatter(X[:, 0], X[:, 1], c=Y, cmap=cmap_bold)\n",
    "plt.xlim(xx.min(), xx.max())\n",
    "plt.ylim(yy.min(), yy.max())\n",
    "   \n",
    "\n",
    "       \n",
    "plt.show()\n"
   ]
  },
  {
   "cell_type": "code",
   "execution_count": null,
   "metadata": {},
   "outputs": [],
   "source": []
  },
  {
   "cell_type": "code",
   "execution_count": null,
   "metadata": {},
   "outputs": [],
   "source": []
  },
  {
   "cell_type": "code",
   "execution_count": null,
   "metadata": {},
   "outputs": [],
   "source": []
  },
  {
   "cell_type": "code",
   "execution_count": null,
   "metadata": {},
   "outputs": [],
   "source": []
  },
  {
   "cell_type": "code",
   "execution_count": null,
   "metadata": {},
   "outputs": [],
   "source": []
  },
  {
   "cell_type": "code",
   "execution_count": null,
   "metadata": {},
   "outputs": [],
   "source": []
  },
  {
   "cell_type": "code",
   "execution_count": null,
   "metadata": {},
   "outputs": [],
   "source": []
  }
 ],
 "metadata": {
  "kernelspec": {
   "display_name": "Python 3",
   "language": "python",
   "name": "python3"
  },
  "language_info": {
   "codemirror_mode": {
    "name": "ipython",
    "version": 3
   },
   "file_extension": ".py",
   "mimetype": "text/x-python",
   "name": "python",
   "nbconvert_exporter": "python",
   "pygments_lexer": "ipython3",
   "version": "3.6.5"
  }
 },
 "nbformat": 4,
 "nbformat_minor": 2
}
