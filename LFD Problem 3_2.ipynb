{
 "cells": [
  {
   "cell_type": "markdown",
   "metadata": {},
   "source": [
    "#### Problem 3.2 For the double semi circle task in Problem 3.1 , vary sep in the range {0.2, 0.4, . . . , 5 } . Generate 2 , 000 examples and run the PLA starting with w = 0. Record the number of iterations PLA takes to converge. Plot sep versus the number of iterations taken for PLA to converge. Explain your observations. "
   ]
  },
  {
   "cell_type": "code",
   "execution_count": 172,
   "metadata": {
    "scrolled": true
   },
   "outputs": [
    {
     "data": {
      "image/png": "[encoded data removed]",
      "text/plain": [
       "<Figure size 432x288 with 1 Axes>"
      ]
     },
     "metadata": {},
     "output_type": "display_data"
    }
   ],
   "source": [
    "import numpy as np\n",
    "import matplotlib.pyplot as plt\n",
    "\n",
    "#parameters\n",
    "rad = 10\n",
    "thk = 5\n",
    "sep= 0.2\n",
    "\n",
    "#n data points,(x1,y1) are the coordinates of the top semi-circle\n",
    "def generatedata(rad,thk,sep,n,x1=0,y1=0):\n",
    "    # center of the top semi-circle\n",
    "    X1 = x1\n",
    "    Y1 = y1\n",
    "\n",
    "    # center of the bottom semi-circle\n",
    "    X2 = X1 + rad + thk / 2\n",
    "    Y2 = Y1 - sep\n",
    "    \n",
    "    # data points in the top semi-circle\n",
    "    top = []\n",
    "  # data points in the bottom semi-circle\n",
    "    bottom = []\n",
    "    \n",
    "    # parameters\n",
    "    r1 = rad + thk\n",
    "    r2 = rad\n",
    "    \n",
    "    cnt = 1\n",
    "    while(cnt <= n):\n",
    "    #uniformed generated points\n",
    "        x = np.random.uniform(-r1,r1)\n",
    "        y = np.random.uniform(-r1,r1)\n",
    "       \n",
    "        d = x**2 + y**2\n",
    "        if(d >= r2**2 and d <= r1**2):\n",
    "            if (y > 0):\n",
    "                top.append([X1 + x,Y1 + y])\n",
    "                cnt += 1\n",
    "            else:\n",
    "                bottom.append([X2 + x,Y2 + y])\n",
    "                cnt += 1\n",
    "        else:\n",
    "            continue\n",
    "\n",
    "    return top,bottom \n",
    "\n",
    "\n",
    "def Perceptron(X, Y):\n",
    "\n",
    "    weights = np.array([0,0,0])\n",
    "\n",
    "    epoch = 200\n",
    "    update = 0\n",
    "    \n",
    "    for k in range(epoch):\n",
    "        for i, n in enumerate(X):\n",
    "\n",
    "            predicted_y =  np.sign(np.dot(X[i] ,(np.transpose(weights))))\n",
    "\n",
    "            actual_y = Y[i]\n",
    "\n",
    "            if predicted_y == actual_y:\n",
    "                weights = weights\n",
    "            else:\n",
    "                weights = weights + np.dot(X[i] , Y[i])\n",
    "                update = update +1\n",
    "    return update\n",
    "                \n",
    "   \n",
    "\n",
    "iteration = []\n",
    "\n",
    "while (sep <= 5.0):\n",
    "    \n",
    "    top,bottom = generatedata(rad,thk,sep,1000)\n",
    "\n",
    "    X1 = [i[0] for i in top]\n",
    "    Y1 = [i[1] for i in top]\n",
    "\n",
    "    X2 = [i[0] for i in bottom]\n",
    "    Y2 = [i[1] for i in bottom]\n",
    "\n",
    "\n",
    "# pre-processing the data for (a)\n",
    "    x1 = [[1] + i + [1] for i in top]\n",
    "    x2 = [[1] + i + [-1] for i in bottom]\n",
    "    data = x1 + x2\n",
    "\n",
    "    X = []\n",
    "    Y = []\n",
    "\n",
    "    for i in range(1000):\n",
    "        Y.append(data[i][3])\n",
    "\n",
    "    for i in range(1000):\n",
    "        X.append(data[i][:3])\n",
    "        \n",
    "    z = Perceptron(X,Y)\n",
    "    \n",
    "    iteration.append(z)\n",
    "    \n",
    "    sep = round(sep+0.2,2)\n",
    "\n",
    "#print((iteration))\n",
    "#print(len(iteration))\n",
    "    \n",
    "    \n",
    "sep_seq = np.array([0.2,0.4,0.6,0.8,1.0,1.2,1.4,1.6,1.8,2.0,2.2,2.4,2.6,2.8,3.0,3.2,3.4,3.6,3.8,4.0,4.2,4.4,4.6,4.8,5.0])\n",
    "\n",
    "\n",
    "plt.plot(sep_seq,iteration, color = 'blue',linestyle = 'dashed')\n",
    "plt.xlabel('sep') \n",
    "plt.ylabel('Iterations')\n",
    "plt.show()\n",
    "\n",
    "\n",
    "\n",
    "\n",
    "\n",
    "\n"
   ]
  },
  {
   "cell_type": "markdown",
   "metadata": {},
   "source": [
    "### From the above graph we observe that sep and iteration when the sep value is less the iteration count is more."
   ]
  },
  {
   "cell_type": "code",
   "execution_count": null,
   "metadata": {},
   "outputs": [],
   "source": []
  }
 ],
 "metadata": {
  "kernelspec": {
   "display_name": "Python 3",
   "language": "python",
   "name": "python3"
  },
  "language_info": {
   "codemirror_mode": {
    "name": "ipython",
    "version": 3
   },
   "file_extension": ".py",
   "mimetype": "text/x-python",
   "name": "python",
   "nbconvert_exporter": "python",
   "pygments_lexer": "ipython3",
   "version": "3.6.5"
  }
 },
 "nbformat": 4,
 "nbformat_minor": 2
}
